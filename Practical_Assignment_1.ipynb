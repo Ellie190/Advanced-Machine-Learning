{
 "cells": [
  {
   "cell_type": "markdown",
   "metadata": {
    "toc": true
   },
   "source": [
    "<h1>Table of Contents<span class=\"tocSkip\"></span></h1>\n",
    "<div class=\"toc\"><ul class=\"toc-item\"><li><span><a href=\"#Library-import\" data-toc-modified-id=\"Library-import-1\"><span class=\"toc-item-num\">1&nbsp;&nbsp;</span>Library import</a></span></li><li><span><a href=\"#Practical-Assignment-1,-Due-Date:-16-April-2021-at-23:59\" data-toc-modified-id=\"Practical-Assignment-1,-Due-Date:-16-April-2021-at-23:59-2\"><span class=\"toc-item-num\">2&nbsp;&nbsp;</span>Practical Assignment 1, Due Date: 16 April 2021 at 23:59</a></span><ul class=\"toc-item\"><li><span><a href=\"#Approach-1\" data-toc-modified-id=\"Approach-1-2.1\"><span class=\"toc-item-num\">2.1&nbsp;&nbsp;</span>Approach 1</a></span></li><li><span><a href=\"#Aproach-2\" data-toc-modified-id=\"Aproach-2-2.2\"><span class=\"toc-item-num\">2.2&nbsp;&nbsp;</span>Aproach 2</a></span></li></ul></li></ul></div>"
   ]
  },
  {
   "cell_type": "markdown",
   "metadata": {},
   "source": [
    "## Library import"
   ]
  },
  {
   "cell_type": "code",
   "execution_count": 1,
   "metadata": {
    "ExecuteTime": {
     "end_time": "2021-04-16T08:18:19.065142Z",
     "start_time": "2021-04-16T08:18:18.346027Z"
    }
   },
   "outputs": [],
   "source": [
    "import numpy as np\n",
    "import pandas as pd\n",
    "import matplotlib.pyplot as plt\n",
    "import math"
   ]
  },
  {
   "cell_type": "markdown",
   "metadata": {},
   "source": [
    "## Practical Assignment 1, Due Date: 16 April 2021 at 23:59\n",
    "Create a python class with the following objectives:\n",
    "- A method for creating a design matrix for a feature vector x\n",
    "- A method for learning the parameters of the model\n",
    "- A method for predicting target values given input values x using two methods:<br>\n",
    "    OLS <br>\n",
    "    MLE <br>\n",
    "- A plotting method for a fitted line and 1 standard division for denoting uncertainties with the MLE method.\n",
    "- Your class should allow the user to specify a method of interest e.g. \"OLS\" or \"MLE\""
   ]
  },
  {
   "cell_type": "markdown",
   "metadata": {},
   "source": [
    "### Approach 1\n",
    "Input: (x, y, method)"
   ]
  },
  {
   "cell_type": "code",
   "execution_count": 2,
   "metadata": {
    "ExecuteTime": {
     "end_time": "2021-04-16T08:18:20.582102Z",
     "start_time": "2021-04-16T08:18:20.558165Z"
    }
   },
   "outputs": [],
   "source": [
    "class Regression():\n",
    "    \"\"\" \n",
    "    A Simple Linear Regression Model Class:\n",
    "    Class Attributes:\n",
    "    x: Independent Variable Input\n",
    "    y: Dependent Variable Input\n",
    "    method: Select 'OLS' or 'MLE'\n",
    "    Class Functions:\n",
    "    designMatrix(): Outputs X n*2 matrix of ones and independent variable inputs\n",
    "    learnParameter(): Outputs b_0 and b_1 and regression equation\n",
    "    fitPlot(): Outputs the line of best fit plot \n",
    "    pred(): Takes input and outputs predicted value \n",
    "    Use Sequence:\n",
    "    1:designMatrix(), 2:learnParameter(), 3:fitPlot(), 4:pred()\n",
    "    \"\"\"\n",
    "    def __init__(self, x, y, method):\n",
    "        self.x = x\n",
    "        self.y = y\n",
    "        self.method = method\n",
    "    \n",
    "    def designMatrix(self):\n",
    "        if self.method == 'OLS' or self.method == 'MLE':\n",
    "            global X, Y, mat_len\n",
    "            mat_len = len(self.x) # matrix lenght (same as n)\n",
    "            X = np.matrix([np.ones(mat_len), self.x]).T; # design matrix\n",
    "            Y = np.matrix(self.y).T\n",
    "            return X\n",
    "        else:\n",
    "            print(\"Please select 'OLS' or 'MLE' as the correct Method\")\n",
    "    \n",
    "    def learnParameter(self):\n",
    "        global l_par, σ_square\n",
    "        if self.method == 'OLS':\n",
    "            l_par = np.linalg.inv(X.T.dot(X)).dot(X.T).dot(Y) # learning parameters\n",
    "            print(\"Estimated coefficients:\\nβ_0 = {}  \\\n",
    "              \\nβ_1 = {}\".format(l_par[0], l_par[1]))\n",
    "            print(\"Equation: y_bar = {} + {}x\".format(l_par[0], l_par[1]))\n",
    "        elif self.method == 'MLE':\n",
    "            l_par = np.linalg.inv(X.T.dot(X)).dot(X.T).dot(Y) \n",
    "            # σ^2 = 1/n*(y-Xθ)^T(y-Xθ)  \n",
    "            # σ_square = (1/mat_len)*((Y - X.dot(l_par)).T.dot(Y - X.dot(l_par)) : Used formula\n",
    "            σ_square = np.array((1/mat_len)*((Y - X.dot(l_par)).T.dot(Y - X.dot(l_par)))).flatten() # sigma^2\n",
    "            print(\"Estimated coefficients:\\nβ_0 = {}  \\\n",
    "              \\nβ_1 = {}\".format(l_par[0], l_par[1]))\n",
    "            print(\"σ^2 = {}\".format(σ_square))\n",
    "            print(\"Equation: y_bar ~ N({} + {}x; {})\".format(l_par[0], l_par[1], σ_square))\n",
    "        else:\n",
    "            print(\"Please select 'OLS' or 'MLE' as the correct Method\")\n",
    "            \n",
    "            \n",
    "    \n",
    "    def fitPlot(self):\n",
    "        if self.method == 'OLS':\n",
    "            y_pred = l_par[0] + l_par[1] * self.x # y_bar = b0 + b1x\n",
    "            plt.plot(np.array(self.x), np.array(y_pred).flatten(), color='r',\n",
    "                    label='y_bar = {} + {}x'.format(np.array(l_par[0]).flatten(), np.array(l_par[1]).flatten()));\n",
    "            plt.plot(self.x, self.y, '.', color = 'b');\n",
    "            plt.xlabel('x');\n",
    "            plt.ylabel('y');\n",
    "            plt.legend(loc = \"upper left\");\n",
    "        elif self.method == 'MLE':\n",
    "            y_pred = l_par[0] + l_par[1] * self.x\n",
    "            y_pred_up = (l_par[0] + l_par[1] * self.x) + σ_square**(1/2) # Uncertainity \n",
    "            y_pred_down = (l_par[0] + l_par[1] * self.x) - σ_square**(1/2) # Uncertainity \n",
    "            plt.plot(np.array(self.x), np.array(y_pred).flatten(), color='r',\n",
    "                    label='y_bar = {} + {}x'.format(np.array(l_par[0]).flatten(), np.array(l_par[1]).flatten()));\n",
    "            plt.plot(self.x, self.y, '.', color = 'b');\n",
    "            plt.plot(np.array(self.x), np.array(y_pred_up).flatten(), color='k',\n",
    "                    label='+/- {} Std of Uncertainties'.format(σ_square**(1/2)));\n",
    "            plt.plot(np.array(self.x), np.array(y_pred_down).flatten(), color='k');\n",
    "            plt.xlabel('x');\n",
    "            plt.ylabel('y');\n",
    "            plt.legend(loc = \"upper left\"); \n",
    "        else:\n",
    "            print(\"Please select 'OLS' or 'MLE' as the correct Method\")\n",
    "            \n",
    "    \n",
    "    def pred(self, val):\n",
    "        \"\"\"\n",
    "        Input independent variables for prediction \n",
    "        Input single or multiple values for single or multiple values output\n",
    "        val: Input values x\n",
    "        \"\"\"\n",
    "        if self.method == 'OLS':\n",
    "            return np.array(l_par[0] + l_par[1] * val).flatten() \n",
    "        elif self.method == 'MLE':\n",
    "            return np.array(np.random.normal(l_par[0] + l_par[1] * val,σ_square**(1/2))).flatten()\n",
    "        else:\n",
    "            print(\"Please select 'OLS' or 'MLE' as the correct Method\")"
   ]
  },
  {
   "cell_type": "code",
   "execution_count": 3,
   "metadata": {
    "ExecuteTime": {
     "end_time": "2021-04-16T08:18:21.246313Z",
     "start_time": "2021-04-16T08:18:21.238294Z"
    }
   },
   "outputs": [
    {
     "name": "stdout",
     "output_type": "stream",
     "text": [
      "Help on class Regression in module __main__:\n",
      "\n",
      "class Regression(builtins.object)\n",
      " |  Regression(x, y, method)\n",
      " |  \n",
      " |  A Simple Linear Regression Model Class:\n",
      " |  Class Attributes:\n",
      " |  x: Independent Variable Input\n",
      " |  y: Dependent Variable Input\n",
      " |  method: Select 'OLS' or 'MLE'\n",
      " |  Class Functions:\n",
      " |  designMatrix(): Outputs X n*2 matrix of ones and independent variable inputs\n",
      " |  learnParameter(): Outputs b_0 and b_1 and regression equation\n",
      " |  fitPlot(): Outputs the line of best fit plot \n",
      " |  pred(): Takes input and outputs predicted value \n",
      " |  Use Sequence:\n",
      " |  1:designMatrix(), 2:learnParameter(), 3:fitPlot(), 4:pred()\n",
      " |  \n",
      " |  Methods defined here:\n",
      " |  \n",
      " |  __init__(self, x, y, method)\n",
      " |      Initialize self.  See help(type(self)) for accurate signature.\n",
      " |  \n",
      " |  designMatrix(self)\n",
      " |  \n",
      " |  fitPlot(self)\n",
      " |  \n",
      " |  learnParameter(self)\n",
      " |  \n",
      " |  pred(self, val)\n",
      " |      Input independent variables for prediction \n",
      " |      Input single or multiple values for single or multiple values output\n",
      " |      val: Input values x\n",
      " |  \n",
      " |  ----------------------------------------------------------------------\n",
      " |  Data descriptors defined here:\n",
      " |  \n",
      " |  __dict__\n",
      " |      dictionary for instance variables (if defined)\n",
      " |  \n",
      " |  __weakref__\n",
      " |      list of weak references to the object (if defined)\n",
      "\n"
     ]
    }
   ],
   "source": [
    "help(Regression)"
   ]
  },
  {
   "cell_type": "code",
   "execution_count": 4,
   "metadata": {
    "ExecuteTime": {
     "end_time": "2021-04-16T08:18:21.904559Z",
     "start_time": "2021-04-16T08:18:21.899536Z"
    }
   },
   "outputs": [],
   "source": [
    "# Test data \n",
    "x = [29, 9, 10, 38, 16, 26, 50, 10, 30, 33, 43, 2, 39, 15, 44, 29, 41, 15, 24, 50] # Study hours\n",
    "y = [65, 7, 8, 76, 23, 56, 100, 3, 74, 48, 73, 0, 62, 37, 74, 40, 90, 42, 58, 100] # Test results\n",
    "#x = np.random.random((100))\n",
    "#y = np.random.random((100))"
   ]
  },
  {
   "cell_type": "code",
   "execution_count": 5,
   "metadata": {
    "ExecuteTime": {
     "end_time": "2021-04-16T08:18:22.278829Z",
     "start_time": "2021-04-16T08:18:22.274840Z"
    }
   },
   "outputs": [],
   "source": [
    "r_ols = Regression(x, y, 'OLS')"
   ]
  },
  {
   "cell_type": "code",
   "execution_count": 6,
   "metadata": {
    "ExecuteTime": {
     "end_time": "2021-04-16T08:18:22.705470Z",
     "start_time": "2021-04-16T08:18:22.702512Z"
    }
   },
   "outputs": [],
   "source": [
    "r_mle = Regression(x,y, 'MLE')"
   ]
  },
  {
   "cell_type": "code",
   "execution_count": 7,
   "metadata": {
    "ExecuteTime": {
     "end_time": "2021-04-16T08:18:23.207646Z",
     "start_time": "2021-04-16T08:18:23.200624Z"
    }
   },
   "outputs": [
    {
     "data": {
      "text/plain": [
       "matrix([[ 1., 29.],\n",
       "        [ 1.,  9.],\n",
       "        [ 1., 10.],\n",
       "        [ 1., 38.],\n",
       "        [ 1., 16.],\n",
       "        [ 1., 26.],\n",
       "        [ 1., 50.],\n",
       "        [ 1., 10.],\n",
       "        [ 1., 30.],\n",
       "        [ 1., 33.],\n",
       "        [ 1., 43.],\n",
       "        [ 1.,  2.],\n",
       "        [ 1., 39.],\n",
       "        [ 1., 15.],\n",
       "        [ 1., 44.],\n",
       "        [ 1., 29.],\n",
       "        [ 1., 41.],\n",
       "        [ 1., 15.],\n",
       "        [ 1., 24.],\n",
       "        [ 1., 50.]])"
      ]
     },
     "execution_count": 7,
     "metadata": {},
     "output_type": "execute_result"
    }
   ],
   "source": [
    "r_ols.designMatrix()"
   ]
  },
  {
   "cell_type": "code",
   "execution_count": 8,
   "metadata": {
    "ExecuteTime": {
     "end_time": "2021-04-16T08:18:23.624365Z",
     "start_time": "2021-04-16T08:18:23.618381Z"
    }
   },
   "outputs": [
    {
     "data": {
      "text/plain": [
       "matrix([[ 1., 29.],\n",
       "        [ 1.,  9.],\n",
       "        [ 1., 10.],\n",
       "        [ 1., 38.],\n",
       "        [ 1., 16.],\n",
       "        [ 1., 26.],\n",
       "        [ 1., 50.],\n",
       "        [ 1., 10.],\n",
       "        [ 1., 30.],\n",
       "        [ 1., 33.],\n",
       "        [ 1., 43.],\n",
       "        [ 1.,  2.],\n",
       "        [ 1., 39.],\n",
       "        [ 1., 15.],\n",
       "        [ 1., 44.],\n",
       "        [ 1., 29.],\n",
       "        [ 1., 41.],\n",
       "        [ 1., 15.],\n",
       "        [ 1., 24.],\n",
       "        [ 1., 50.]])"
      ]
     },
     "execution_count": 8,
     "metadata": {},
     "output_type": "execute_result"
    }
   ],
   "source": [
    "r_mle.designMatrix()"
   ]
  },
  {
   "cell_type": "code",
   "execution_count": 9,
   "metadata": {
    "ExecuteTime": {
     "end_time": "2021-04-16T08:18:24.197831Z",
     "start_time": "2021-04-16T08:18:24.186861Z"
    }
   },
   "outputs": [
    {
     "name": "stdout",
     "output_type": "stream",
     "text": [
      "Estimated coefficients:\n",
      "β_0 = [[-3.9057602]]                \n",
      "β_1 = [[2.01467487]]\n",
      "Equation: y_bar = [[-3.9057602]] + [[2.01467487]]x\n"
     ]
    }
   ],
   "source": [
    "r_ols.learnParameter()"
   ]
  },
  {
   "cell_type": "code",
   "execution_count": 10,
   "metadata": {
    "ExecuteTime": {
     "end_time": "2021-04-16T08:18:24.615722Z",
     "start_time": "2021-04-16T08:18:24.610728Z"
    }
   },
   "outputs": [
    {
     "name": "stdout",
     "output_type": "stream",
     "text": [
      "Estimated coefficients:\n",
      "β_0 = [[-3.9057602]]                \n",
      "β_1 = [[2.01467487]]\n",
      "σ^2 = [114.60634226]\n",
      "Equation: y_bar ~ N([[-3.9057602]] + [[2.01467487]]x; [114.60634226])\n"
     ]
    }
   ],
   "source": [
    "r_mle.learnParameter()"
   ]
  },
  {
   "cell_type": "code",
   "execution_count": 11,
   "metadata": {
    "ExecuteTime": {
     "end_time": "2021-04-16T08:18:25.406920Z",
     "start_time": "2021-04-16T08:18:25.262265Z"
    }
   },
   "outputs": [
    {
     "data": {
      "image/png": "[encoded data removed]",
      "text/plain": [
       "<Figure size 432x288 with 1 Axes>"
      ]
     },
     "metadata": {
      "needs_background": "light"
     },
     "output_type": "display_data"
    }
   ],
   "source": [
    "r_ols.fitPlot()"
   ]
  },
  {
   "cell_type": "code",
   "execution_count": 12,
   "metadata": {
    "ExecuteTime": {
     "end_time": "2021-04-16T08:18:26.149963Z",
     "start_time": "2021-04-16T08:18:26.022305Z"
    }
   },
   "outputs": [
    {
     "data": {
      "image/png": "[encoded data removed]",
      "text/plain": [
       "<Figure size 432x288 with 1 Axes>"
      ]
     },
     "metadata": {
      "needs_background": "light"
     },
     "output_type": "display_data"
    }
   ],
   "source": [
    "r_mle.fitPlot()"
   ]
  },
  {
   "cell_type": "code",
   "execution_count": 13,
   "metadata": {
    "ExecuteTime": {
     "end_time": "2021-04-16T08:18:27.673955Z",
     "start_time": "2021-04-16T08:18:27.671004Z"
    }
   },
   "outputs": [],
   "source": [
    "# Outputs from original data\n",
    "# [2, 30, 50, 60]\n",
    "# [0, 74, 100, ?]"
   ]
  },
  {
   "cell_type": "code",
   "execution_count": 14,
   "metadata": {
    "ExecuteTime": {
     "end_time": "2021-04-16T08:18:28.965465Z",
     "start_time": "2021-04-16T08:18:28.959471Z"
    }
   },
   "outputs": [
    {
     "data": {
      "text/plain": [
       "array([  0.12358955,  56.53448595,  96.82798338, 116.97473209])"
      ]
     },
     "execution_count": 14,
     "metadata": {},
     "output_type": "execute_result"
    }
   ],
   "source": [
    "r_ols.pred([2,30,50,60])"
   ]
  },
  {
   "cell_type": "code",
   "execution_count": 15,
   "metadata": {
    "ExecuteTime": {
     "end_time": "2021-04-16T08:18:30.073793Z",
     "start_time": "2021-04-16T08:18:30.067809Z"
    }
   },
   "outputs": [
    {
     "data": {
      "text/plain": [
       "array([-13.14261535,  49.01924376,  96.43894011, 120.54411513])"
      ]
     },
     "execution_count": 15,
     "metadata": {},
     "output_type": "execute_result"
    }
   ],
   "source": [
    "r_mle.pred([2,30,50,60])"
   ]
  },
  {
   "cell_type": "markdown",
   "metadata": {
    "ExecuteTime": {
     "end_time": "2021-04-16T07:59:16.735062Z",
     "start_time": "2021-04-16T07:59:16.348097Z"
    }
   },
   "source": [
    "### Aproach 2\n",
    "Input: (sample, β_0, β_1, mu, sigma, method, min_v, max_v)"
   ]
  },
  {
   "cell_type": "code",
   "execution_count": 16,
   "metadata": {
    "ExecuteTime": {
     "end_time": "2021-04-16T08:18:41.069185Z",
     "start_time": "2021-04-16T08:18:41.042257Z"
    }
   },
   "outputs": [],
   "source": [
    "class lregression():\n",
    "    \"\"\"\n",
    "    Attributes \n",
    "    sample: Data size\n",
    "    β_0: Set intercept based on world belief\n",
    "    β_1: Set slope based on world belief\n",
    "    mu: Set desired mean\n",
    "    sigma: set desired standard deviation\n",
    "    min_v: minimum data value \n",
    "    max_v: maximum data value\n",
    "    \"\"\"\n",
    "    def __init__(self, sample, β_0, β_1, mu, sigma, method, min_v, max_v):\n",
    "        self.sample = sample\n",
    "        self.β_0 = β_0\n",
    "        self.β_1 = β_1\n",
    "        self.mu = mu\n",
    "        self.sigma = sigma\n",
    "        self.method = method\n",
    "        self.min_v = min_v\n",
    "        self.max_v = max_v\n",
    "        \n",
    "    def designMatrix(self):\n",
    "        global X, Y, y_tru, y_obs, x            \n",
    "        x = np.random.uniform(self.max_v ,self.min_v ,self.sample)\n",
    "        y_tru = self.β_0 + self.β_1 * x\n",
    "        ϵ = np.random.normal(self.mu ,self.sigma ,self.sample)\n",
    "        y_obs = y_tru + ϵ\n",
    "        mat_len = len(x)\n",
    "        X = np.matrix([np.ones(mat_len), x]).T \n",
    "        Y = np.matrix(y_obs).T\n",
    "        return X\n",
    "    \n",
    "    def learnParameters(self):\n",
    "        global x_var, y_var, l_par, σ_square\n",
    "        if self.method == 'OLS':\n",
    "            l_par = np.linalg.inv(X.T.dot(X)).dot(X.T).dot(Y)\n",
    "            print(\"Estimated coefficients:\\nβ_0 = {}  \\\n",
    "              \\nβ_1 = {}\".format(l_par[0], l_par[1]))\n",
    "            print(\"Equation: y_bar = {} + {}x\".format(l_par[0], l_par[1]))\n",
    "        else:\n",
    "            l_par = np.linalg.inv(X.T.dot(X)).dot(X.T).dot(Y)\n",
    "            σ_square = np.array((1/mat_len)*((Y - X.dot(l_par)).T.dot(Y - X.dot(l_par)))).flatten()\n",
    "            print(\"Estimated coefficients:\\nβ_0 = {}  \\\n",
    "              \\nβ_1 = {}\".format(l_par[0], l_par[1]))\n",
    "            print(\"σ^2 = {}\".format(σ_square))\n",
    "            print(\"Equation: y_bar ~ N({} + {}x; {})\".format(l_par[0], l_par[1], σ_square))\n",
    "    \n",
    "    def dataPlot(self):\n",
    "        # Plot linear model with Noise \n",
    "        plt.plot(x,y_tru,'r-',label='y_true = {} + {}x'.format(self.β_0,self.β_1));\n",
    "        plt.plot(x,y_obs,'.',label='y_obs = y + ϵ, mean = {}, sd = {}'.format(self.mu, self.sigma));\n",
    "        plt.xlabel('x');\n",
    "        plt.ylabel('y');\n",
    "        plt.title('Linear Model with Noise')\n",
    "        plt.legend(loc = \"upper left\");\n",
    "    \n",
    "    def fitPlot(self):\n",
    "        if self.method == 'OLS':\n",
    "            y_est = l_par[0] + l_par[1] * x\n",
    "            plt.plot(np.array(x), np.array(y_est).flatten(), color='g', \n",
    "                     label = 'y_est = {} + {}x'.format(np.array(l_par[0]).flatten(), np.array(l_par[1]).flatten()));\n",
    "            plt.plot(x,y_tru,'r-',label='y_true = {} + {}x'.format(self.β_0,self.β_1));\n",
    "            plt.plot(x, y_obs,'.',label='y_obs = y_true + ϵ, mean = {}, sd = {}'.format(self.mu, self.sigma));\n",
    "            plt.legend();\n",
    "        else:\n",
    "            y_est = l_par[0] + l_par[1] * x\n",
    "            y_est2 = (l_par[0] + l_par[1] * x) + σ_square**(1/2) # Uncertainty region \n",
    "            y_est3 = (l_par[0] + l_par[1] * x) - σ_square**(1/2) # Uncertainty region \n",
    "            plt.plot(np.array(x), np.array(y_est).flatten(), color='g', \n",
    "                     label = 'y_est = {} + {}x'.format(np.array(l_par[0]).flatten(), np.array(l_par[1]).flatten()));\n",
    "            plt.plot(np.array(x), np.array(y_est2).flatten(), color='k');\n",
    "            plt.plot(np.array(x), np.array(y_est3).flatten(), color='k');\n",
    "            plt.plot(x,y_tru,'r-',label='y_true = {} + {}x'.format(self.β_0,self.β_1));\n",
    "            plt.plot(x, y_obs,'.',label='y_obs = y_true + ϵ, mean = {}, sd = {}'.format(self.mu, self.sigma));\n",
    "            plt.legend(loc = \"upper left\");\n",
    "            \n",
    "    def pred(self,val):\n",
    "        if self.method == 'OLS':\n",
    "            return np.array(l_par[0] + l_par[1] * val).flatten() \n",
    "        else:\n",
    "            return np.array(np.random.normal(l_par[0] + l_par[1] * val,σ_square**(1/2))).flatten()  "
   ]
  },
  {
   "cell_type": "code",
   "execution_count": 17,
   "metadata": {
    "ExecuteTime": {
     "end_time": "2021-04-16T08:18:41.752394Z",
     "start_time": "2021-04-16T08:18:41.745379Z"
    }
   },
   "outputs": [
    {
     "name": "stdout",
     "output_type": "stream",
     "text": [
      "Help on class lregression in module __main__:\n",
      "\n",
      "class lregression(builtins.object)\n",
      " |  lregression(sample, β_0, β_1, mu, sigma, method, min_v, max_v)\n",
      " |  \n",
      " |  Attributes \n",
      " |  sample: Data size\n",
      " |  β_0: Set intercept based on world belief\n",
      " |  β_1: Set slope based on world belief\n",
      " |  mu: Set desired mean\n",
      " |  sigma: set desired standard deviation\n",
      " |  min_v: minimum data value \n",
      " |  max_v: maximum data value\n",
      " |  \n",
      " |  Methods defined here:\n",
      " |  \n",
      " |  __init__(self, sample, β_0, β_1, mu, sigma, method, min_v, max_v)\n",
      " |      Initialize self.  See help(type(self)) for accurate signature.\n",
      " |  \n",
      " |  dataPlot(self)\n",
      " |  \n",
      " |  designMatrix(self)\n",
      " |  \n",
      " |  fitPlot(self)\n",
      " |  \n",
      " |  learnParameters(self)\n",
      " |  \n",
      " |  pred(self, val)\n",
      " |  \n",
      " |  ----------------------------------------------------------------------\n",
      " |  Data descriptors defined here:\n",
      " |  \n",
      " |  __dict__\n",
      " |      dictionary for instance variables (if defined)\n",
      " |  \n",
      " |  __weakref__\n",
      " |      list of weak references to the object (if defined)\n",
      "\n"
     ]
    }
   ],
   "source": [
    "help(lregression)"
   ]
  },
  {
   "cell_type": "code",
   "execution_count": 18,
   "metadata": {
    "ExecuteTime": {
     "end_time": "2021-04-16T08:18:43.046077Z",
     "start_time": "2021-04-16T08:18:43.042087Z"
    }
   },
   "outputs": [],
   "source": [
    "r_class_ols = lregression(51, 5.67, 2.18, 0, 5,'OLS', 0, 51)"
   ]
  },
  {
   "cell_type": "code",
   "execution_count": 19,
   "metadata": {
    "ExecuteTime": {
     "end_time": "2021-04-16T08:18:43.525795Z",
     "start_time": "2021-04-16T08:18:43.518811Z"
    }
   },
   "outputs": [
    {
     "data": {
      "text/plain": [
       "matrix([[ 1.        , 44.95963059],\n",
       "        [ 1.        , 18.26148563],\n",
       "        [ 1.        ,  3.17263978],\n",
       "        [ 1.        ,  5.72557651],\n",
       "        [ 1.        , 17.56669136],\n",
       "        [ 1.        , 17.34591667],\n",
       "        [ 1.        , 15.68121179],\n",
       "        [ 1.        , 49.33290247],\n",
       "        [ 1.        , 41.18724347],\n",
       "        [ 1.        , 12.0921053 ],\n",
       "        [ 1.        ,  5.73161852],\n",
       "        [ 1.        , 20.9201156 ],\n",
       "        [ 1.        , 22.32196076],\n",
       "        [ 1.        , 44.81678034],\n",
       "        [ 1.        , 41.93010675],\n",
       "        [ 1.        , 25.66642326],\n",
       "        [ 1.        ,  6.4898947 ],\n",
       "        [ 1.        , 43.70303196],\n",
       "        [ 1.        , 18.44361319],\n",
       "        [ 1.        , 35.32178305],\n",
       "        [ 1.        , 25.59411137],\n",
       "        [ 1.        , 44.86003076],\n",
       "        [ 1.        , 31.66466647],\n",
       "        [ 1.        , 33.07535591],\n",
       "        [ 1.        , 13.15505899],\n",
       "        [ 1.        , 33.36572848],\n",
       "        [ 1.        , 23.44934614],\n",
       "        [ 1.        ,  1.04143086],\n",
       "        [ 1.        , 38.90074448],\n",
       "        [ 1.        ,  2.88252359],\n",
       "        [ 1.        , 28.8005311 ],\n",
       "        [ 1.        ,  1.13216315],\n",
       "        [ 1.        , 10.06195684],\n",
       "        [ 1.        , 25.20603595],\n",
       "        [ 1.        , 19.13091414],\n",
       "        [ 1.        ,  1.00871464],\n",
       "        [ 1.        , 11.44659435],\n",
       "        [ 1.        , 36.40523294],\n",
       "        [ 1.        ,  2.9531868 ],\n",
       "        [ 1.        ,  1.26594253],\n",
       "        [ 1.        , 18.21731577],\n",
       "        [ 1.        , 41.90128543],\n",
       "        [ 1.        , 14.9597679 ],\n",
       "        [ 1.        , 47.19090192],\n",
       "        [ 1.        , 46.44454934],\n",
       "        [ 1.        ,  0.28608892],\n",
       "        [ 1.        , 47.9303454 ],\n",
       "        [ 1.        ,  4.86660259],\n",
       "        [ 1.        , 21.32719944],\n",
       "        [ 1.        , 34.89302338],\n",
       "        [ 1.        , 19.9954296 ]])"
      ]
     },
     "execution_count": 19,
     "metadata": {},
     "output_type": "execute_result"
    }
   ],
   "source": [
    "r_class_ols.designMatrix()"
   ]
  },
  {
   "cell_type": "code",
   "execution_count": 20,
   "metadata": {
    "ExecuteTime": {
     "end_time": "2021-04-16T08:18:44.083304Z",
     "start_time": "2021-04-16T08:18:44.078355Z"
    }
   },
   "outputs": [
    {
     "name": "stdout",
     "output_type": "stream",
     "text": [
      "Estimated coefficients:\n",
      "β_0 = [[4.46352078]]                \n",
      "β_1 = [[2.21493327]]\n",
      "Equation: y_bar = [[4.46352078]] + [[2.21493327]]x\n"
     ]
    }
   ],
   "source": [
    "r_class_ols.learnParameters()"
   ]
  },
  {
   "cell_type": "code",
   "execution_count": 21,
   "metadata": {
    "ExecuteTime": {
     "end_time": "2021-04-16T08:18:44.981777Z",
     "start_time": "2021-04-16T08:18:44.829187Z"
    }
   },
   "outputs": [
    {
     "data": {
      "image/png": "[encoded data removed]",
      "text/plain": [
       "<Figure size 432x288 with 1 Axes>"
      ]
     },
     "metadata": {
      "needs_background": "light"
     },
     "output_type": "display_data"
    }
   ],
   "source": [
    "r_class_ols.dataPlot()"
   ]
  },
  {
   "cell_type": "code",
   "execution_count": 22,
   "metadata": {
    "ExecuteTime": {
     "end_time": "2021-04-16T08:18:45.878419Z",
     "start_time": "2021-04-16T08:18:45.729818Z"
    }
   },
   "outputs": [
    {
     "data": {
      "image/png": "[encoded data removed]",
      "text/plain": [
       "<Figure size 432x288 with 1 Axes>"
      ]
     },
     "metadata": {
      "needs_background": "light"
     },
     "output_type": "display_data"
    }
   ],
   "source": [
    "r_class_ols.fitPlot()"
   ]
  },
  {
   "cell_type": "code",
   "execution_count": 23,
   "metadata": {
    "ExecuteTime": {
     "end_time": "2021-04-16T08:18:48.030824Z",
     "start_time": "2021-04-16T08:18:48.026306Z"
    }
   },
   "outputs": [
    {
     "data": {
      "text/plain": [
       "array([ 6.67845405, 53.19205271, 11.10832059])"
      ]
     },
     "execution_count": 23,
     "metadata": {},
     "output_type": "execute_result"
    }
   ],
   "source": [
    "r_class_ols.pred([1,22,3])"
   ]
  },
  {
   "cell_type": "code",
   "execution_count": 24,
   "metadata": {
    "ExecuteTime": {
     "end_time": "2021-04-16T08:18:49.401103Z",
     "start_time": "2021-04-16T08:18:49.398145Z"
    }
   },
   "outputs": [],
   "source": [
    "r_class_mle = lregression(51, 5.67, 2.18, 0, 5,'MLE', 0, 51)"
   ]
  },
  {
   "cell_type": "code",
   "execution_count": 25,
   "metadata": {
    "ExecuteTime": {
     "end_time": "2021-04-16T08:18:50.083847Z",
     "start_time": "2021-04-16T08:18:50.077861Z"
    }
   },
   "outputs": [
    {
     "data": {
      "text/plain": [
       "matrix([[ 1.        , 20.90821724],\n",
       "        [ 1.        , 28.45056892],\n",
       "        [ 1.        , 48.43604983],\n",
       "        [ 1.        , 22.38802165],\n",
       "        [ 1.        , 32.83416043],\n",
       "        [ 1.        , 14.08277891],\n",
       "        [ 1.        ,  3.91497496],\n",
       "        [ 1.        , 16.02219721],\n",
       "        [ 1.        , 23.85221618],\n",
       "        [ 1.        , 44.3908615 ],\n",
       "        [ 1.        , 43.22713518],\n",
       "        [ 1.        , 10.43587824],\n",
       "        [ 1.        , 43.59543308],\n",
       "        [ 1.        , 41.64944026],\n",
       "        [ 1.        , 45.53906196],\n",
       "        [ 1.        , 16.89595852],\n",
       "        [ 1.        , 30.57766391],\n",
       "        [ 1.        , 14.54674917],\n",
       "        [ 1.        ,  5.12894431],\n",
       "        [ 1.        , 34.96611508],\n",
       "        [ 1.        , 32.2447739 ],\n",
       "        [ 1.        , 45.9800405 ],\n",
       "        [ 1.        , 24.66833494],\n",
       "        [ 1.        , 26.52655454],\n",
       "        [ 1.        , 47.21414969],\n",
       "        [ 1.        ,  2.11381601],\n",
       "        [ 1.        , 26.15596706],\n",
       "        [ 1.        , 31.6120333 ],\n",
       "        [ 1.        ,  6.59461933],\n",
       "        [ 1.        , 49.51327046],\n",
       "        [ 1.        , 37.43347184],\n",
       "        [ 1.        , 12.48975117],\n",
       "        [ 1.        , 50.08862732],\n",
       "        [ 1.        , 16.85490309],\n",
       "        [ 1.        , 15.39766144],\n",
       "        [ 1.        ,  0.75535735],\n",
       "        [ 1.        , 19.23002336],\n",
       "        [ 1.        , 32.62222131],\n",
       "        [ 1.        , 46.94209592],\n",
       "        [ 1.        , 31.54868744],\n",
       "        [ 1.        , 23.83032545],\n",
       "        [ 1.        , 24.07047299],\n",
       "        [ 1.        , 17.58857083],\n",
       "        [ 1.        ,  1.82989685],\n",
       "        [ 1.        , 45.12530478],\n",
       "        [ 1.        , 14.06649558],\n",
       "        [ 1.        , 30.57250975],\n",
       "        [ 1.        ,  5.46781315],\n",
       "        [ 1.        , 49.72738605],\n",
       "        [ 1.        , 42.32767482],\n",
       "        [ 1.        , 35.64663599]])"
      ]
     },
     "execution_count": 25,
     "metadata": {},
     "output_type": "execute_result"
    }
   ],
   "source": [
    "r_class_mle.designMatrix()"
   ]
  },
  {
   "cell_type": "code",
   "execution_count": 26,
   "metadata": {
    "ExecuteTime": {
     "end_time": "2021-04-16T08:18:50.733109Z",
     "start_time": "2021-04-16T08:18:50.727162Z"
    }
   },
   "outputs": [
    {
     "name": "stdout",
     "output_type": "stream",
     "text": [
      "Estimated coefficients:\n",
      "β_0 = [[4.8052975]]                \n",
      "β_1 = [[2.23387059]]\n",
      "σ^2 = [59.07344002]\n",
      "Equation: y_bar ~ N([[4.8052975]] + [[2.23387059]]x; [59.07344002])\n"
     ]
    }
   ],
   "source": [
    "r_class_mle.learnParameters()"
   ]
  },
  {
   "cell_type": "code",
   "execution_count": 27,
   "metadata": {
    "ExecuteTime": {
     "end_time": "2021-04-16T08:18:51.601480Z",
     "start_time": "2021-04-16T08:18:51.469154Z"
    }
   },
   "outputs": [
    {
     "data": {
      "image/png": "[encoded data removed]",
      "text/plain": [
       "<Figure size 432x288 with 1 Axes>"
      ]
     },
     "metadata": {
      "needs_background": "light"
     },
     "output_type": "display_data"
    }
   ],
   "source": [
    "r_class_mle.dataPlot()"
   ]
  },
  {
   "cell_type": "code",
   "execution_count": 28,
   "metadata": {
    "ExecuteTime": {
     "end_time": "2021-04-16T08:18:52.448215Z",
     "start_time": "2021-04-16T08:18:52.310584Z"
    }
   },
   "outputs": [
    {
     "data": {
      "image/png": "[encoded data removed]",
      "text/plain": [
       "<Figure size 432x288 with 1 Axes>"
      ]
     },
     "metadata": {
      "needs_background": "light"
     },
     "output_type": "display_data"
    }
   ],
   "source": [
    "r_class_mle.fitPlot()"
   ]
  },
  {
   "cell_type": "code",
   "execution_count": 29,
   "metadata": {
    "ExecuteTime": {
     "end_time": "2021-04-16T08:18:53.475848Z",
     "start_time": "2021-04-16T08:18:53.470902Z"
    }
   },
   "outputs": [
    {
     "data": {
      "text/plain": [
       "array([-3.92678875, 54.05122792,  7.98244712])"
      ]
     },
     "execution_count": 29,
     "metadata": {},
     "output_type": "execute_result"
    }
   ],
   "source": [
    "r_class_mle.pred([1,22,3])"
   ]
  },
  {
   "cell_type": "code",
   "execution_count": null,
   "metadata": {},
   "outputs": [],
   "source": []
  }
 ],
 "metadata": {
  "hide_input": false,
  "kernelspec": {
   "display_name": "Python 3",
   "language": "python",
   "name": "python3"
  },
  "language_info": {
   "codemirror_mode": {
    "name": "ipython",
    "version": 3
   },
   "file_extension": ".py",
   "mimetype": "text/x-python",
   "name": "python",
   "nbconvert_exporter": "python",
   "pygments_lexer": "ipython3",
   "version": "3.8.3"
  },
  "latex_envs": {
   "LaTeX_envs_menu_present": true,
   "autoclose": false,
   "autocomplete": true,
   "bibliofile": "biblio.bib",
   "cite_by": "apalike",
   "current_citInitial": 1,
   "eqLabelWithNumbers": true,
   "eqNumInitial": 1,
   "hotkeys": {
    "equation": "Ctrl-E",
    "itemize": "Ctrl-I"
   },
   "labels_anchors": false,
   "latex_user_defs": false,
   "report_style_numbering": false,
   "user_envs_cfg": false
  },
  "toc": {
   "base_numbering": 1,
   "nav_menu": {},
   "number_sections": true,
   "sideBar": true,
   "skip_h1_title": false,
   "title_cell": "Table of Contents",
   "title_sidebar": "Contents",
   "toc_cell": true,
   "toc_position": {},
   "toc_section_display": true,
   "toc_window_display": false
  }
 },
 "nbformat": 4,
 "nbformat_minor": 4
}

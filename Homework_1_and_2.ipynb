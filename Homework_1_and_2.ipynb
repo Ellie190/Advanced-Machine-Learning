{
 "cells": [
  {
   "cell_type": "markdown",
   "metadata": {
    "toc": true
   },
   "source": [
    "<h1>Table of Contents<span class=\"tocSkip\"></span></h1>\n",
    "<div class=\"toc\"><ul class=\"toc-item\"><li><span><a href=\"#Homework-1-for-01-March-2021\" data-toc-modified-id=\"Homework-1-for-01-March-2021-1\"><span class=\"toc-item-num\">1&nbsp;&nbsp;</span>Homework 1 for 01 March 2021</a></span></li><li><span><a href=\"#Homework-2\" data-toc-modified-id=\"Homework-2-2\"><span class=\"toc-item-num\">2&nbsp;&nbsp;</span>Homework 2</a></span></li></ul></div>"
   ]
  },
  {
   "cell_type": "code",
   "execution_count": 1,
   "metadata": {
    "ExecuteTime": {
     "end_time": "2021-04-16T08:13:40.432812Z",
     "start_time": "2021-04-16T08:13:39.717732Z"
    }
   },
   "outputs": [],
   "source": [
    "import numpy as np\n",
    "import pandas as pd\n",
    "import matplotlib.pyplot as plt\n",
    "import math"
   ]
  },
  {
   "cell_type": "markdown",
   "metadata": {},
   "source": [
    "## Homework 1 for 01 March 2021 \n",
    "- Create a python function that computes a design matrix using NumPy."
   ]
  },
  {
   "cell_type": "code",
   "execution_count": 2,
   "metadata": {
    "ExecuteTime": {
     "end_time": "2021-04-16T08:13:44.573128Z",
     "start_time": "2021-04-16T08:13:44.568141Z"
    }
   },
   "outputs": [],
   "source": [
    "def designMatrix(x):\n",
    "    \"\"\"\n",
    "    Inputs:\n",
    "    x: Independent Variable Input (list input e.g. [1] or [1,2,3,4])\n",
    "    \"\"\"\n",
    "    mat_len = len(x)\n",
    "    X = np.matrix([np.ones(mat_len), x]).T;\n",
    "    return X\n",
    "    "
   ]
  },
  {
   "cell_type": "code",
   "execution_count": 3,
   "metadata": {
    "ExecuteTime": {
     "end_time": "2021-04-16T08:13:45.410702Z",
     "start_time": "2021-04-16T08:13:45.403720Z"
    }
   },
   "outputs": [
    {
     "data": {
      "text/plain": [
       "matrix([[1., 4.],\n",
       "        [1., 4.]])"
      ]
     },
     "execution_count": 3,
     "metadata": {},
     "output_type": "execute_result"
    }
   ],
   "source": [
    "designMatrix([4,4])"
   ]
  },
  {
   "cell_type": "markdown",
   "metadata": {},
   "source": [
    "## Homework 2\n",
    "- Create a python class that computes (i) design matrix, (ii) learning parameters of a linear model, (iii) and plotting the results\n",
    "- Your class should have three methods for each of the three above tasks. "
   ]
  },
  {
   "cell_type": "code",
   "execution_count": 4,
   "metadata": {
    "ExecuteTime": {
     "end_time": "2021-04-16T08:13:46.999511Z",
     "start_time": "2021-04-16T08:13:46.987544Z"
    }
   },
   "outputs": [],
   "source": [
    "class LinearRegression():\n",
    "    \"\"\" \n",
    "    A Simple Linear Regression Model Class:\n",
    "    Class Attributes:\n",
    "    x: Independent Variable Input\n",
    "    y: Dependent Variable Input\n",
    "    Class Functions:\n",
    "    designMatrix(): Outputs X n*2 matrix of ones and independent variable inputs\n",
    "    learnParameter(): Outputs b_0 and b_1 and regression equation\n",
    "    fitPlot(): Outputs the line of best fit plot \n",
    "    Pred(): Takes input and outputs predicted value \n",
    "    \n",
    "    \"\"\"\n",
    "    def __init__(self, x, y):\n",
    "        self.x = x\n",
    "        self.y = y\n",
    "    \n",
    "    def designMatrix(self):\n",
    "        global X, Y\n",
    "        mat_len = len(self.x)\n",
    "        X = np.matrix([np.ones(mat_len), self.x]).T;\n",
    "        Y = np.matrix(self.y).T\n",
    "        return X\n",
    "    \n",
    "    def learnParameter(self):\n",
    "        global l_par\n",
    "        l_par = np.linalg.inv(X.T.dot(X)).dot(X.T).dot(Y)\n",
    "        print(\"Estimated coefficients:\\nβ_0 = {}  \\\n",
    "          \\nβ_1 = {}\".format(l_par[0], l_par[1]))\n",
    "        print(\"Equation: y_bar = {} + {}x\".format(l_par[0], l_par[1]))\n",
    "    \n",
    "    def fitPlot(self):\n",
    "        y_pred = l_par[0] + l_par[1] * self.x\n",
    "        plt.plot(np.array(self.x), np.array(y_pred).flatten(), color='b',\n",
    "                label='y_bar = {} + {}x'.format(np.array(l_par[0]).flatten(), np.array(l_par[1]).flatten()));\n",
    "        plt.scatter(self.x, self.y, color='r');\n",
    "        plt.xlabel('x');\n",
    "        plt.ylabel('y');\n",
    "        plt.legend();\n",
    "    \n",
    "    def pred(self, val):\n",
    "        \"\"\"\n",
    "        Input independent variables for prediction \n",
    "        Input single or multiple values for single or multiple values output\n",
    "        \"\"\"\n",
    "        return np.array(l_par[0] + l_par[1] * val).flatten()  "
   ]
  },
  {
   "cell_type": "code",
   "execution_count": 5,
   "metadata": {
    "ExecuteTime": {
     "end_time": "2021-04-16T08:13:48.088380Z",
     "start_time": "2021-04-16T08:13:48.082396Z"
    }
   },
   "outputs": [],
   "source": [
    "### Model Test \n",
    "x = [29, 9, 10, 38, 16, 26, 50, 10, 30, 33, 43, 2, 39, 15, 44, 29, 41, 15, 24, 50] # Study hours\n",
    "y = [65, 7, 8, 76, 23, 56, 100, 3, 74, 48, 73, 0, 62, 37, 74, 40, 90, 42, 58, 100] # Test results\n",
    "#x = np.random.random((100))\n",
    "#y = np.random.random((100))"
   ]
  },
  {
   "cell_type": "code",
   "execution_count": 6,
   "metadata": {
    "ExecuteTime": {
     "end_time": "2021-04-16T08:13:49.090896Z",
     "start_time": "2021-04-16T08:13:49.086869Z"
    }
   },
   "outputs": [],
   "source": [
    "r1 = LinearRegression(x, y)"
   ]
  },
  {
   "cell_type": "code",
   "execution_count": 7,
   "metadata": {
    "ExecuteTime": {
     "end_time": "2021-04-16T08:13:49.766998Z",
     "start_time": "2021-04-16T08:13:49.761013Z"
    }
   },
   "outputs": [
    {
     "data": {
      "text/plain": [
       "matrix([[ 1., 29.],\n",
       "        [ 1.,  9.],\n",
       "        [ 1., 10.],\n",
       "        [ 1., 38.],\n",
       "        [ 1., 16.],\n",
       "        [ 1., 26.],\n",
       "        [ 1., 50.],\n",
       "        [ 1., 10.],\n",
       "        [ 1., 30.],\n",
       "        [ 1., 33.],\n",
       "        [ 1., 43.],\n",
       "        [ 1.,  2.],\n",
       "        [ 1., 39.],\n",
       "        [ 1., 15.],\n",
       "        [ 1., 44.],\n",
       "        [ 1., 29.],\n",
       "        [ 1., 41.],\n",
       "        [ 1., 15.],\n",
       "        [ 1., 24.],\n",
       "        [ 1., 50.]])"
      ]
     },
     "execution_count": 7,
     "metadata": {},
     "output_type": "execute_result"
    }
   ],
   "source": [
    "r1.designMatrix()"
   ]
  },
  {
   "cell_type": "code",
   "execution_count": 8,
   "metadata": {
    "ExecuteTime": {
     "end_time": "2021-04-16T08:13:51.531113Z",
     "start_time": "2021-04-16T08:13:51.518145Z"
    }
   },
   "outputs": [
    {
     "name": "stdout",
     "output_type": "stream",
     "text": [
      "Estimated coefficients:\n",
      "β_0 = [[-3.9057602]]            \n",
      "β_1 = [[2.01467487]]\n",
      "Equation: y_bar = [[-3.9057602]] + [[2.01467487]]x\n"
     ]
    }
   ],
   "source": [
    "r1.learnParameter()"
   ]
  },
  {
   "cell_type": "code",
   "execution_count": 9,
   "metadata": {
    "ExecuteTime": {
     "end_time": "2021-04-16T08:13:52.794515Z",
     "start_time": "2021-04-16T08:13:52.652899Z"
    }
   },
   "outputs": [
    {
     "data": {
      "image/png": "[encoded data removed]",
      "text/plain": [
       "<Figure size 432x288 with 1 Axes>"
      ]
     },
     "metadata": {
      "needs_background": "light"
     },
     "output_type": "display_data"
    }
   ],
   "source": [
    "r1.fitPlot()"
   ]
  },
  {
   "cell_type": "code",
   "execution_count": 10,
   "metadata": {
    "ExecuteTime": {
     "end_time": "2021-04-16T08:13:53.683823Z",
     "start_time": "2021-04-16T08:13:53.677839Z"
    }
   },
   "outputs": [
    {
     "data": {
      "text/plain": [
       "array([36.38773723, 56.53448595,  4.15293929, 50.49046133, 92.79863363,\n",
       "       74.66655979, -0.88374789,  3.75000432])"
      ]
     },
     "execution_count": 10,
     "metadata": {},
     "output_type": "execute_result"
    }
   ],
   "source": [
    "r1.pred([20, 30, 4, 27, 48, 39, 1.5, 3.8])"
   ]
  },
  {
   "cell_type": "code",
   "execution_count": null,
   "metadata": {},
   "outputs": [],
   "source": []
  }
 ],
 "metadata": {
  "hide_input": false,
  "kernelspec": {
   "display_name": "Python 3",
   "language": "python",
   "name": "python3"
  },
  "language_info": {
   "codemirror_mode": {
    "name": "ipython",
    "version": 3
   },
   "file_extension": ".py",
   "mimetype": "text/x-python",
   "name": "python",
   "nbconvert_exporter": "python",
   "pygments_lexer": "ipython3",
   "version": "3.8.3"
  },
  "latex_envs": {
   "LaTeX_envs_menu_present": true,
   "autoclose": false,
   "autocomplete": true,
   "bibliofile": "biblio.bib",
   "cite_by": "apalike",
   "current_citInitial": 1,
   "eqLabelWithNumbers": true,
   "eqNumInitial": 1,
   "hotkeys": {
    "equation": "Ctrl-E",
    "itemize": "Ctrl-I"
   },
   "labels_anchors": false,
   "latex_user_defs": false,
   "report_style_numbering": false,
   "user_envs_cfg": false
  },
  "toc": {
   "base_numbering": 1,
   "nav_menu": {},
   "number_sections": true,
   "sideBar": true,
   "skip_h1_title": false,
   "title_cell": "Table of Contents",
   "title_sidebar": "Contents",
   "toc_cell": true,
   "toc_position": {},
   "toc_section_display": true,
   "toc_window_display": false
  }
 },
 "nbformat": 4,
 "nbformat_minor": 4
}

{
 "cells": [
  {
   "cell_type": "markdown",
   "metadata": {
    "toc": true
   },
   "source": [
    "<h1>Table of Contents<span class=\"tocSkip\"></span></h1>\n",
    "<div class=\"toc\"><ul class=\"toc-item\"><li><span><a href=\"#Library-Import\" data-toc-modified-id=\"Library-Import-1\"><span class=\"toc-item-num\">1&nbsp;&nbsp;</span>Library Import</a></span></li><li><span><a href=\"#Regression-Class\" data-toc-modified-id=\"Regression-Class-2\"><span class=\"toc-item-num\">2&nbsp;&nbsp;</span>Regression Class</a></span></li><li><span><a href=\"#Model-Test-1\" data-toc-modified-id=\"Model-Test-1-3\"><span class=\"toc-item-num\">3&nbsp;&nbsp;</span>Model Test 1</a></span></li><li><span><a href=\"#Model-Test-2\" data-toc-modified-id=\"Model-Test-2-4\"><span class=\"toc-item-num\">4&nbsp;&nbsp;</span>Model Test 2</a></span></li></ul></div>"
   ]
  },
  {
   "cell_type": "markdown",
   "metadata": {},
   "source": [
    "## Library Import"
   ]
  },
  {
   "cell_type": "code",
   "execution_count": 1,
   "metadata": {
    "ExecuteTime": {
     "end_time": "2021-04-12T06:54:36.628715Z",
     "start_time": "2021-04-12T06:54:36.195122Z"
    }
   },
   "outputs": [],
   "source": [
    "import numpy as np\n",
    "import matplotlib.pyplot as plt"
   ]
  },
  {
   "cell_type": "markdown",
   "metadata": {},
   "source": [
    "## Regression Class"
   ]
  },
  {
   "cell_type": "code",
   "execution_count": 2,
   "metadata": {
    "ExecuteTime": {
     "end_time": "2021-04-12T06:54:39.050864Z",
     "start_time": "2021-04-12T06:54:39.040854Z"
    }
   },
   "outputs": [],
   "source": [
    "class LinearRegression():\n",
    "    \"\"\" \n",
    "    A Simple Linear Regression Model Class:\n",
    "    Class Attributes:\n",
    "    x: Independent Variable Input\n",
    "    y: Dependent Variable Input\n",
    "    Class Functions:\n",
    "    designMatrix(): Outputs X n*2 matrix of ones and independent variable inputs\n",
    "    learnParameter(): Outputs b_0 and b_1 and regression equation\n",
    "    fitPlot(): Outputs the line of best fit plot \n",
    "    Pred(): Takes input and outputs predicted value \n",
    "    \n",
    "    \"\"\"\n",
    "    def __init__(self, x, y):\n",
    "        self.x = x\n",
    "        self.y = y\n",
    "    \n",
    "    def designMatrix(self):\n",
    "        global X, Y\n",
    "        mat_len = len(self.x)\n",
    "        X = np.matrix([np.ones(mat_len), self.x]).T;\n",
    "        Y = np.matrix(self.y).T\n",
    "        return X\n",
    "    \n",
    "    def learnParameter(self):\n",
    "        global x_var, y_var, l_par\n",
    "        l_par = np.linalg.inv(X.T.dot(X)).dot(X.T).dot(Y)\n",
    "        print(\"Estimated coefficients:\\nb_0 = {}  \\\n",
    "          \\nb_1 = {}\".format(l_par[0], l_par[1]))\n",
    "        print(\"Equation: y_bar = {} + {}x\".format(l_par[0], l_par[1]))\n",
    "    \n",
    "    def fitPlot(self):\n",
    "        y_pred = l_par[0] + l_par[1] * self.x\n",
    "        plt.plot(np.array(self.x), np.array(y_pred).flatten(), color='b');\n",
    "        plt.scatter(self.x, self.y, color='r');\n",
    "    \n",
    "    def Pred(self, val):\n",
    "        return l_par[0] + l_par[1] * val       "
   ]
  },
  {
   "cell_type": "markdown",
   "metadata": {},
   "source": [
    "## Model Test 1"
   ]
  },
  {
   "cell_type": "code",
   "execution_count": 3,
   "metadata": {
    "ExecuteTime": {
     "end_time": "2021-04-12T06:54:42.924342Z",
     "start_time": "2021-04-12T06:54:42.919356Z"
    }
   },
   "outputs": [],
   "source": [
    "x = [29, 9, 10, 38, 16, 26, 50, 10, 30, 33, 43, 2, 39, 15, 44, 29, 41, 15, 24, 50] # Study hours\n",
    "y = [65, 7, 8, 76, 23, 56, 100, 3, 74, 48, 73, 0, 62, 37, 74, 40, 90, 42, 58, 100] # Test results"
   ]
  },
  {
   "cell_type": "code",
   "execution_count": 4,
   "metadata": {
    "ExecuteTime": {
     "end_time": "2021-04-12T06:54:45.218750Z",
     "start_time": "2021-04-12T06:54:45.214761Z"
    }
   },
   "outputs": [],
   "source": [
    "r1 = LinearRegression(x, y)"
   ]
  },
  {
   "cell_type": "code",
   "execution_count": 5,
   "metadata": {
    "ExecuteTime": {
     "end_time": "2021-04-12T06:54:48.315971Z",
     "start_time": "2021-04-12T06:54:48.307670Z"
    }
   },
   "outputs": [
    {
     "data": {
      "text/plain": [
       "matrix([[ 1., 29.],\n",
       "        [ 1.,  9.],\n",
       "        [ 1., 10.],\n",
       "        [ 1., 38.],\n",
       "        [ 1., 16.],\n",
       "        [ 1., 26.],\n",
       "        [ 1., 50.],\n",
       "        [ 1., 10.],\n",
       "        [ 1., 30.],\n",
       "        [ 1., 33.],\n",
       "        [ 1., 43.],\n",
       "        [ 1.,  2.],\n",
       "        [ 1., 39.],\n",
       "        [ 1., 15.],\n",
       "        [ 1., 44.],\n",
       "        [ 1., 29.],\n",
       "        [ 1., 41.],\n",
       "        [ 1., 15.],\n",
       "        [ 1., 24.],\n",
       "        [ 1., 50.]])"
      ]
     },
     "execution_count": 5,
     "metadata": {},
     "output_type": "execute_result"
    }
   ],
   "source": [
    "r1.designMatrix()"
   ]
  },
  {
   "cell_type": "code",
   "execution_count": 6,
   "metadata": {
    "ExecuteTime": {
     "end_time": "2021-04-12T06:54:56.683727Z",
     "start_time": "2021-04-12T06:54:56.671730Z"
    }
   },
   "outputs": [
    {
     "name": "stdout",
     "output_type": "stream",
     "text": [
      "Estimated coefficients:\n",
      "b_0 = [[-3.9057602]]            \n",
      "b_1 = [[2.01467487]]\n",
      "Equation: y_bar = [[-3.9057602]] + [[2.01467487]]x\n"
     ]
    }
   ],
   "source": [
    "r1.learnParameter()"
   ]
  },
  {
   "cell_type": "code",
   "execution_count": 7,
   "metadata": {
    "ExecuteTime": {
     "end_time": "2021-04-12T06:54:59.351199Z",
     "start_time": "2021-04-12T06:54:59.217000Z"
    }
   },
   "outputs": [
    {
     "data": {
      "image/png": "[encoded data removed]",
      "text/plain": [
       "<Figure size 432x288 with 1 Axes>"
      ]
     },
     "metadata": {
      "needs_background": "light"
     },
     "output_type": "display_data"
    }
   ],
   "source": [
    "r1.fitPlot()"
   ]
  },
  {
   "cell_type": "code",
   "execution_count": 34,
   "metadata": {
    "ExecuteTime": {
     "end_time": "2021-04-12T01:00:11.261825Z",
     "start_time": "2021-04-12T01:00:11.255838Z"
    }
   },
   "outputs": [
    {
     "data": {
      "text/plain": [
       "array([54.51981108, 14.22631365, 16.24098852, 72.65188492, 28.32903775,\n",
       "       48.47578646, 96.82798338, 16.24098852, 56.53448595, 62.57851056,\n",
       "       82.72525928,  0.12358955, 74.66655979, 26.31436288, 84.73993415,\n",
       "       54.51981108, 78.69590953, 26.31436288, 44.44643672, 96.82798338])"
      ]
     },
     "execution_count": 34,
     "metadata": {},
     "output_type": "execute_result"
    }
   ],
   "source": [
    "np.array(r1.Pred(r1.x)).flatten() # predictions Test"
   ]
  },
  {
   "cell_type": "code",
   "execution_count": 36,
   "metadata": {
    "ExecuteTime": {
     "end_time": "2021-04-12T01:00:39.631971Z",
     "start_time": "2021-04-12T01:00:39.523299Z"
    }
   },
   "outputs": [
    {
     "data": {
      "image/png": "[encoded data removed]",
      "text/plain": [
       "<Figure size 432x288 with 1 Axes>"
      ]
     },
     "metadata": {
      "needs_background": "light"
     },
     "output_type": "display_data"
    }
   ],
   "source": [
    "plt.plot(np.array(r1.x),np.array(r1.Pred(r1.x)).flatten()); # Plot line of best fit method test"
   ]
  },
  {
   "cell_type": "code",
   "execution_count": 26,
   "metadata": {
    "ExecuteTime": {
     "end_time": "2021-04-12T00:56:36.856030Z",
     "start_time": "2021-04-12T00:56:36.850082Z"
    }
   },
   "outputs": [
    {
     "data": {
      "text/plain": [
       "array([96.82798338, 96.82798338])"
      ]
     },
     "execution_count": 26,
     "metadata": {},
     "output_type": "execute_result"
    }
   ],
   "source": [
    "np.array([r1.Pred(50).T, r1.Pred(50).T]).flatten() # Array change test"
   ]
  },
  {
   "cell_type": "markdown",
   "metadata": {},
   "source": [
    "## Model Test 2"
   ]
  },
  {
   "cell_type": "code",
   "execution_count": 8,
   "metadata": {
    "ExecuteTime": {
     "end_time": "2021-04-12T01:16:58.239410Z",
     "start_time": "2021-04-12T01:16:58.236410Z"
    }
   },
   "outputs": [],
   "source": [
    "x = np.random.random((100))\n",
    "y = np.random.random((100))"
   ]
  },
  {
   "cell_type": "code",
   "execution_count": 9,
   "metadata": {
    "ExecuteTime": {
     "end_time": "2021-04-12T01:17:47.942956Z",
     "start_time": "2021-04-12T01:17:47.939225Z"
    }
   },
   "outputs": [],
   "source": [
    "r2 = LinearRegression(x,y)"
   ]
  },
  {
   "cell_type": "code",
   "execution_count": 11,
   "metadata": {
    "ExecuteTime": {
     "end_time": "2021-04-12T01:18:05.309220Z",
     "start_time": "2021-04-12T01:18:05.110535Z"
    }
   },
   "outputs": [
    {
     "data": {
      "image/png": "[encoded data removed]",
      "text/plain": [
       "<Figure size 432x288 with 1 Axes>"
      ]
     },
     "metadata": {
      "needs_background": "light"
     },
     "output_type": "display_data"
    }
   ],
   "source": [
    "r2.fitPlot()"
   ]
  },
  {
   "cell_type": "code",
   "execution_count": null,
   "metadata": {},
   "outputs": [],
   "source": [
    "LinearRegression()"
   ]
  }
 ],
 "metadata": {
  "hide_input": false,
  "kernelspec": {
   "display_name": "Python 3",
   "language": "python",
   "name": "python3"
  },
  "language_info": {
   "codemirror_mode": {
    "name": "ipython",
    "version": 3
   },
   "file_extension": ".py",
   "mimetype": "text/x-python",
   "name": "python",
   "nbconvert_exporter": "python",
   "pygments_lexer": "ipython3",
   "version": "3.8.3"
  },
  "latex_envs": {
   "LaTeX_envs_menu_present": true,
   "autoclose": false,
   "autocomplete": true,
   "bibliofile": "biblio.bib",
   "cite_by": "apalike",
   "current_citInitial": 1,
   "eqLabelWithNumbers": true,
   "eqNumInitial": 1,
   "hotkeys": {
    "equation": "Ctrl-E",
    "itemize": "Ctrl-I"
   },
   "labels_anchors": false,
   "latex_user_defs": false,
   "report_style_numbering": false,
   "user_envs_cfg": false
  },
  "toc": {
   "base_numbering": 1,
   "nav_menu": {},
   "number_sections": true,
   "sideBar": true,
   "skip_h1_title": false,
   "title_cell": "Table of Contents",
   "title_sidebar": "Contents",
   "toc_cell": true,
   "toc_position": {},
   "toc_section_display": true,
   "toc_window_display": false
  }
 },
 "nbformat": 4,
 "nbformat_minor": 4
}
